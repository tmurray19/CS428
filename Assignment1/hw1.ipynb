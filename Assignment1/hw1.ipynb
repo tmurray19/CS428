{
 "cells": [
  {
   "cell_type": "markdown",
   "metadata": {},
   "source": [
    "In general, we use the commant `import pylab` to access pylab, but in the noteboo, we generally do it like this:"
   ]
  },
  {
   "cell_type": "code",
   "execution_count": 2,
   "metadata": {},
   "outputs": [
    {
     "name": "stdout",
     "output_type": "stream",
     "text": [
      "Populating the interactive namespace from numpy and matplotlib\n"
     ]
    }
   ],
   "source": [
    "%pylab inline"
   ]
  },
  {
   "cell_type": "code",
   "execution_count": 9,
   "metadata": {},
   "outputs": [],
   "source": [
    "# we need to import the math library\n",
    "import math"
   ]
  },
  {
   "cell_type": "markdown",
   "metadata": {},
   "source": [
    "As a first step, we are going to read the file `data.txt` into Python."
   ]
  },
  {
   "cell_type": "code",
   "execution_count": 15,
   "metadata": {},
   "outputs": [
    {
     "name": "stdout",
     "output_type": "stream",
     "text": [
      "xs: [70.0, 3.0, 67.0, 38.0, 46.0, -16.0, 64.0, 10.0, 55.0, -17.0, 51.0, 23.0, 26.0, 12.0, 34.0, 58.0, 0.0, -18.0, 9.0, -9.0, 50.0, 27.0, 54.0, -16.0, -17.0, 53.0, 42.0, -10.0, 37.0, 69.0, 48.0, -8.0, 59.0, 28.0, 63.0, 0.0, 64.0, 66.0, 50.0, -7.0, 39.0, 47.0, 46.0, 53.0, 40.0, -2.0, 60.0, -11.0, -4.0, 0.0, -12.0, 28.0, 57.0, 52.0]\n",
      "ys: [-130.0, 28.1, -91.90000000000003, 47.59999999999999, 36.39999999999998, -91.6, -79.60000000000002, 38.0, -17.5, -115.9, 4.899999999999977, 72.1, 72.39999999999999, 67.6, 68.39999999999999, -36.40000000000003, 6.0, -108.4, 34.9, -27.1, 10.0, 76.1, -7.600000000000023, -95.6, -103.9, 6.099999999999966, 51.59999999999999, -66.0, 58.09999999999999, -113.1, 27.59999999999999, -32.4, -47.10000000000002, 71.6, -71.90000000000003, 22.0, -83.60000000000002, -103.6, 10.0, -21.9, 68.9, 24.09999999999999, 24.39999999999998, 10.09999999999997, 42.0, -4.4, -46.0, -57.1, -23.6, -2.0, -64.4, 79.6, -33.90000000000003, 7.599999999999966]\n"
     ]
    }
   ],
   "source": [
    "# first we need to _open_ the file\n",
    "f = open(\"data.txt\")\n",
    "\n",
    "# read the contents of the file and add to lists xs and ys\n",
    "xs, ys = [], []\n",
    "for l in f:\n",
    "    if l[0] == 'x':\n",
    "        # we have an x value that should be added to xs\n",
    "        xs.append(float(l.split('=')[1][:-2]))\n",
    "    elif l[0] == 'y':\n",
    "        # we have a y value that should be added to ys\n",
    "        ys.append(float(l.split('=')[1]))\n",
    "\n",
    "\n",
    "# lastly, we close the file.\n",
    "f.close()"
   ]
  },
  {
   "cell_type": "markdown",
   "metadata": {},
   "source": [
    "Next we will experiment a bit with plots.\n",
    "\n",
    "The first argument to `pylab.plot` is the list of x-coordinates, the second is the list of y-coordinates, and the third is the style of the points."
   ]
  },
  {
   "cell_type": "code",
   "execution_count": 8,
   "metadata": {},
   "outputs": [
    {
     "data": {
      "image/png": "[encoded data removed]",
      "text/plain": [
       "<Figure size 432x288 with 1 Axes>"
      ]
     },
     "metadata": {},
     "output_type": "display_data"
    }
   ],
   "source": [
    "pylab.plot([1,2,3,4],[6,3,8,1], 'rd')\n",
    "pylab.show()"
   ]
  },
  {
   "cell_type": "markdown",
   "metadata": {},
   "source": [
    "What about if we want to plot the graph of a function, say $f(x) = sin(x)/x$? We need to generate the points ourselves.\n"
   ]
  },
  {
   "cell_type": "code",
   "execution_count": 13,
   "metadata": {},
   "outputs": [
    {
     "data": {
      "text/plain": [
       "[<matplotlib.lines.Line2D at 0x7f42bd84e1d0>]"
      ]
     },
     "execution_count": 13,
     "metadata": {},
     "output_type": "execute_result"
    },
    {
     "data": {
      "image/png": "[encoded data removed]",
      "text/plain": [
       "<Figure size 432x288 with 1 Axes>"
      ]
     },
     "metadata": {},
     "output_type": "display_data"
    }
   ],
   "source": [
    "def f(x):\n",
    "    if x == 0:\n",
    "        return 1\n",
    "    else:\n",
    "        return math.sin(x)/x\n",
    "\n",
    "# Generate some x- and y- values.\n",
    "xs, ys = [], []\n",
    "for i in range(100):\n",
    "    x =-10 + i*(20/100)\n",
    "    xs.append(x)\n",
    "    ys.append(f(x))\n",
    "    \n",
    "pylab.plot(xs,ys)"
   ]
  },
  {
   "cell_type": "markdown",
   "metadata": {},
   "source": [
    "Plot the x-values and y-values from the file"
   ]
  },
  {
   "cell_type": "code",
   "execution_count": 16,
   "metadata": {},
   "outputs": [
    {
     "data": {
      "text/plain": [
       "[<matplotlib.lines.Line2D at 0x7f42bd839198>]"
      ]
     },
     "execution_count": 16,
     "metadata": {},
     "output_type": "execute_result"
    },
    {
     "data": {
      "image/png": "[encoded data removed]",
      "text/plain": [
       "<Figure size 432x288 with 1 Axes>"
      ]
     },
     "metadata": {},
     "output_type": "display_data"
    }
   ],
   "source": [
    "pylab.plot(xs, ys, 'bo')"
   ]
  },
  {
   "cell_type": "code",
   "execution_count": null,
   "metadata": {},
   "outputs": [],
   "source": []
  }
 ],
 "metadata": {
  "kernelspec": {
   "display_name": "Python 3",
   "language": "python",
   "name": "python3"
  },
  "language_info": {
   "codemirror_mode": {
    "name": "ipython",
    "version": 3
   },
   "file_extension": ".py",
   "mimetype": "text/x-python",
   "name": "python",
   "nbconvert_exporter": "python",
   "pygments_lexer": "ipython3",
   "version": "3.6.5"
  }
 },
 "nbformat": 4,
 "nbformat_minor": 2
}
